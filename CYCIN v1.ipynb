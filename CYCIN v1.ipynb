{
 "cells": [
  {
   "cell_type": "code",
   "execution_count": 1,
   "id": "dcee8f4e",
   "metadata": {},
   "outputs": [],
   "source": [
    "# \"######\" for unresolved issues\n",
    "# \"####\" for incomplete sections\n",
    "# \"###\" for unsure parts\n",
    "# Headers above each cell for area of spreadsheet\n",
    "import numpy as np"
   ]
  },
  {
   "cell_type": "code",
   "execution_count": 2,
   "id": "7d4addd4",
   "metadata": {},
   "outputs": [],
   "source": [
    "## A1 - E5 ## Input_Output ##\n",
    "P1 = np.zeros(4,dtype=str)\n",
    "P2 = np.zeros(4,dtype=str)\n",
    "P3 = np.zeros(4,dtype=str)\n",
    "P4 = np.zeros(4,dtype=str)\n",
    "P1[0] = \"A\"\n",
    "P2[0] = \"E\"\n",
    "P3[0] = \"D\"\n",
    "P4[0] = \"B\"\n",
    "\n",
    "P1[1] = P2[0]\n",
    "P2[1] = P3[0]\n",
    "P3[1] = P4[0]\n",
    "P4[1] = P1[0]\n",
    "\n",
    "P1[2] = P2[1]\n",
    "P2[2] = P3[1]\n",
    "P3[2] = P4[1]\n",
    "P4[2] = P1[1]\n",
    "\n",
    "P1[3] = P2[2]\n",
    "P2[3] = P3[2]\n",
    "P3[3] = P4[2]\n",
    "P4[3] = P1[2]\n",
    "\n",
    "# print(P1,P2,P3,P4)"
   ]
  },
  {
   "cell_type": "code",
   "execution_count": 3,
   "id": "b576ad21",
   "metadata": {},
   "outputs": [],
   "source": [
    "## A7 - C27 ## Input_Output ##\n",
    "dt = 0.025\n",
    "v0 = 0.1\n",
    "hl_length = 125\n",
    "rho = 1.17\n",
    "Bike_length = 1.75\n",
    "Spacing = 0.25\n",
    "Weight_dist_front_rear = 0.6 # 60%\n",
    "Crr_front = 0.0016\n",
    "Crr_rear = 0.0016\n",
    "mu_scrub = 0.0072\n",
    "Efficiency = 0.975 # 97.5%\n",
    "MoI_whl_front = 0.08\n",
    "MoI_whl_rear = 0.08\n",
    "Wheel_radius = 0.336\n",
    "Time_standing = 17\n",
    "track = \"BRI\"\n",
    "bl = 0.4\n",
    "Lap1profile = \"male\"\n",
    "reactionTime = 0.15\n",
    "# 2nd team = FALSE\n",
    "# 3rd rider dist behind at finish = 1"
   ]
  },
  {
   "cell_type": "code",
   "execution_count": 4,
   "id": "03ca5839",
   "metadata": {},
   "outputs": [],
   "source": [
    "## G1 - AA6 ## Input_Output\n",
    "Rider_ID = [\"A\",\"B\",\"C\",\"D\",\"E\"]\n",
    "Rider_profiles = [\"rider1\",\"rider2\",\"rider3\",\"rider4\",\"rider5\"]\n",
    "Mass = [88,90,86,88,90]\n",
    "CDA_seated_solo = [0.17,0.18,0.17,0.18,0.167]\n",
    "Seat_height = [1.03,1.09,1.03,1.00,1.03]\n",
    "Critical_power = [380,410,380,400,390]\n",
    "Turn_1_power = [650,670,630,650,630]\n",
    "Turn_2_power = [630,670,630,630,630]\n",
    "Turn_3_power = [630,650,650,630,630]\n",
    "Turn_4_power = [630,650,650,630,630]\n",
    "Turn_5_power = [630,650,650,630,630]\n",
    "CDA_standing = [0.5,0.5,0.5,0.5,0.5]\n",
    "Ave_lead_WCDA = np.zeros(5)\n",
    "for i in range(5):\n",
    "    Ave_lead_WCDA[i] = ((Turn_1_power[i] + Turn_2_power[i])/2)/CDA_seated_solo[i]\n",
    "# print(Ave_lead_WCDA)\n",
    "Energy_total_KJ = [115,125,110,125,110]\n",
    "Over_CP_energy_KJ = [30,38,30,38,30]\n",
    "five_sec_power = [1400,1350,1300,1400,1150]\n",
    "one_min_power = [800,800,800,800,800]\n",
    "three_min_power = [570,570,570,570,570]"
   ]
  },
  {
   "cell_type": "code",
   "execution_count": 5,
   "id": "3c0a8ca1",
   "metadata": {},
   "outputs": [],
   "source": [
    "## A28 - F33 ## Input_Output\n",
    "# Input: turn duration x laps\n",
    "tdxl = [0] * 4\n",
    "tdxl[0] = [P1[0],np.zeros(5)]\n",
    "tdxl[1] = [P2[0],np.zeros(5)]\n",
    "tdxl[2] = [P3[0],np.zeros(5)]\n",
    "tdxl[3] = [P4[0],np.zeros(5)]\n",
    "\n",
    "tdxl[0][1][0] = 2.25\n",
    "tdxl[0][1][1] = 1\n",
    "\n",
    "tdxl[1][1][0] = 2\n",
    "tdxl[1][1][1] = 2\n",
    "\n",
    "tdxl[2][1][0] = 2\n",
    "tdxl[2][1][1] = 2.5\n",
    "\n",
    "tdxl[3][1][0] = 2\n",
    "tdxl[3][1][1] = 2.25\n",
    "# print(tdxl)"
   ]
  },
  {
   "cell_type": "code",
   "execution_count": 6,
   "id": "90403cf8",
   "metadata": {},
   "outputs": [],
   "source": [
    "## A35 - H41 ## Input_Output\n",
    "# Turn duration in metres\n",
    "track_dist_mult = 0.994987685937172 ### should be from Track_geometry_lookup \n",
    "tdim = [0] * 4\n",
    "tdim[0] = [P1[0],np.zeros(5)]\n",
    "tdim[1] = [P2[0],np.zeros(5)]\n",
    "tdim[2] = [P3[0],np.zeros(5)]\n",
    "tdim[3] = [P4[0],np.zeros(5)]\n",
    "\n",
    "for i in range(5):\n",
    "    tdim[0][1][i] = tdxl[0][1][i]*250/track_dist_mult\n",
    "    tdim[1][1][i] = tdxl[1][1][i]*250/track_dist_mult\n",
    "    tdim[2][1][i] = tdxl[2][1][i]*250/track_dist_mult\n",
    "    tdim[3][1][i] = tdxl[3][1][i]*250/track_dist_mult\n",
    "\n",
    "# print(tdim)\n",
    "tdim_sum = np.zeros(5)\n",
    "tdim_sum[0] = tdim[0][1][0] + tdim[1][1][0] + tdim[2][1][0] + tdim[3][1][0]\n",
    "tdim_sum[1] = tdim[0][1][1] + tdim[1][1][1] + tdim[2][1][1] + tdim[3][1][1] + tdim_sum[0]\n",
    "tdim_sum[2] = tdim[0][1][2] + tdim[1][1][2] + tdim[2][1][2] + tdim[3][1][2] + tdim_sum[1]\n",
    "tdim_sum[3] = tdim[0][1][3] + tdim[1][1][3] + tdim[2][1][3] + tdim[3][1][3] + tdim_sum[2]\n",
    "tdim_sum[4] = tdim[0][1][4] + tdim[1][1][4] + tdim[2][1][4] + tdim[3][1][4] + tdim_sum[3]\n",
    "\n",
    "total_dist = tdim_sum[4]\n",
    "# print(tdim_sum, total_dist)"
   ]
  },
  {
   "cell_type": "code",
   "execution_count": 7,
   "id": "8d08659d",
   "metadata": {},
   "outputs": [],
   "source": [
    "## A43 - G48 ## Input_Output\n",
    "# Cumulative turn duration in metres\n",
    "ctdm = [0] * 4\n",
    "ctdm[0] = [P1[0],np.zeros(5)]\n",
    "ctdm[1] = [P2[0],np.zeros(5)]\n",
    "ctdm[2] = [P3[0],np.zeros(5)]\n",
    "ctdm[3] = [P4[0],np.zeros(5)]\n",
    "\n",
    "ctdm[0][1][0] = tdim[0][1][0]\n",
    "ctdm[1][1][0] = tdim[1][1][0] + ctdm[0][1][0]\n",
    "ctdm[2][1][0] = tdim[2][1][0] + ctdm[1][1][0]\n",
    "ctdm[3][1][0] = tdim[3][1][0] + ctdm[2][1][0]\n",
    "\n",
    "ctdm[0][1][1] = tdim_sum[0] + tdim[0][1][1]\n",
    "ctdm[1][1][1] = ctdm[0][1][1] + tdim[1][1][1]\n",
    "ctdm[2][1][1] = ctdm[1][1][1] + tdim[2][1][1]\n",
    "ctdm[3][1][1] = ctdm[2][1][1] + tdim[3][1][1]\n",
    "\n",
    "ctdm[0][1][2] = tdim_sum[1] + tdim[0][1][2]\n",
    "ctdm[1][1][2] = ctdm[0][1][2] + tdim[1][1][2]\n",
    "ctdm[2][1][2] = ctdm[1][1][2] + tdim[2][1][2]\n",
    "ctdm[3][1][2] = ctdm[2][1][2] + tdim[3][1][2]\n",
    "\n",
    "ctdm[0][1][3] = tdim_sum[2] + tdim[0][1][3]\n",
    "ctdm[1][1][3] = ctdm[0][1][3] + tdim[1][1][3]\n",
    "ctdm[2][1][3] = ctdm[1][1][3] + tdim[2][1][3]\n",
    "ctdm[3][1][3] = ctdm[2][1][3] + tdim[3][1][3]\n",
    "\n",
    "ctdm[0][1][4] = tdim_sum[3] + tdim[0][1][4]\n",
    "ctdm[1][1][4] = ctdm[0][1][4] + tdim[1][1][4]\n",
    "ctdm[2][1][4] = ctdm[1][1][4] + tdim[2][1][4]\n",
    "ctdm[3][1][4] = ctdm[2][1][4] + tdim[3][1][4]\n",
    "\n",
    "# print(ctdm)"
   ]
  },
  {
   "cell_type": "code",
   "execution_count": 8,
   "id": "669fb114",
   "metadata": {},
   "outputs": [],
   "source": [
    "## A50 - C54 ## Input_Output\n",
    "# CDA Scaling\n",
    "CDA_P1 = 0.98\n",
    "CDA_P2 = 0.7\n",
    "CDA_P3 = 0.6\n",
    "CDA_P4 = 0.62"
   ]
  },
  {
   "cell_type": "code",
   "execution_count": 9,
   "id": "b3e1e1fd",
   "metadata": {},
   "outputs": [],
   "source": [
    "## A56 - D88 ## Input_Output\n",
    "stabilised = 0.3\n",
    "rel_airspeed = np.zeros(32)\n",
    "for i in range(3,32):\n",
    "    rel_airspeed[i] = stabilised\n",
    "# print(rel_airspeed)"
   ]
  },
  {
   "cell_type": "code",
   "execution_count": 10,
   "id": "31e52194",
   "metadata": {},
   "outputs": [],
   "source": [
    "## F8 - H15 ## Input_Output\n",
    "# Quick Increments\n",
    "CDA_delta = 0\n",
    "Static_mass_delta = 0\n",
    "Crr_delta = 0\n",
    "Power = 0\n",
    "Starter_power_laps_1_2 = 0\n",
    "#### Team_seated_average_WCDA = # ave bb897 - bb9117 Calcs"
   ]
  },
  {
   "cell_type": "code",
   "execution_count": 11,
   "id": "16e5ef96",
   "metadata": {},
   "outputs": [],
   "source": [
    "## B2 - B14732 ## Calcs\n",
    "time = np.zeros(14730)\n",
    "for i in range(14730):\n",
    "    time[i] = 0.025*(i+1)"
   ]
  },
  {
   "cell_type": "code",
   "execution_count": 56,
   "id": "6579420c",
   "metadata": {},
   "outputs": [],
   "source": [
    "## AL10 - AN30 ## Input_Output\n",
    "Turn_ID_IO = np.zeros(20,dtype=object)\n",
    "for i in range(5):\n",
    "    Turn_ID_IO[4*i+0] = tdxl[0][0] + str(i+1)\n",
    "    Turn_ID_IO[4*i+1] = tdxl[1][0] + str(i+1)\n",
    "    Turn_ID_IO[4*i+2] = tdxl[2][0] + str(i+1)\n",
    "    Turn_ID_IO[4*i+3] = tdxl[3][0] + str(i+1)\n",
    "# print(Turn_ID_IO)"
   ]
  },
  {
   "cell_type": "code",
   "execution_count": 57,
   "id": "4b74e489",
   "metadata": {},
   "outputs": [],
   "source": [
    "####\n",
    "# Turn_ID = np.zeros(14730,dtype=str)\n",
    "# Turn_ID[0] = Turn_ID_IO[0]"
   ]
  },
  {
   "cell_type": "code",
   "execution_count": null,
   "id": "b6735e9c",
   "metadata": {},
   "outputs": [],
   "source": []
  },
  {
   "cell_type": "code",
   "execution_count": null,
   "id": "04d117d4",
   "metadata": {},
   "outputs": [],
   "source": []
  }
 ],
 "metadata": {
  "kernelspec": {
   "display_name": "Python 3 (ipykernel)",
   "language": "python",
   "name": "python3"
  },
  "language_info": {
   "codemirror_mode": {
    "name": "ipython",
    "version": 3
   },
   "file_extension": ".py",
   "mimetype": "text/x-python",
   "name": "python",
   "nbconvert_exporter": "python",
   "pygments_lexer": "ipython3",
   "version": "3.9.6"
  }
 },
 "nbformat": 4,
 "nbformat_minor": 5
}
